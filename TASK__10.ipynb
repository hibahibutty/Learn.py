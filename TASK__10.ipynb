{
  "nbformat": 4,
  "nbformat_minor": 0,
  "metadata": {
    "colab": {
      "name": "TASK 10.ipynb",
      "provenance": [],
      "authorship_tag": "ABX9TyOYmVWGk+RCM6UlNvtKEwrn",
      "include_colab_link": true
    },
    "kernelspec": {
      "name": "python3",
      "display_name": "Python 3"
    },
    "language_info": {
      "name": "python"
    }
  },
  "cells": [
    {
      "cell_type": "markdown",
      "metadata": {
        "id": "view-in-github",
        "colab_type": "text"
      },
      "source": [
        "<a href=\"https://colab.research.google.com/github/hibahibutty/Learn.py/blob/main/TASK__10.ipynb\" target=\"_parent\"><img src=\"https://colab.research.google.com/assets/colab-badge.svg\" alt=\"Open In Colab\"/></a>"
      ]
    },
    {
      "cell_type": "markdown",
      "metadata": {
        "id": "VHKxwUewxOi2"
      },
      "source": [
        "1. Generate two  3 x 3 matrix and find it's dot product and take the transpose of the answer."
      ]
    },
    {
      "cell_type": "code",
      "metadata": {
        "id": "mcgZwF9VXfzN"
      },
      "source": [
        "import numpy as np\n",
        "a,b = np.arange(9).reshape(3,3),np.arange(9,18).reshape(3,3)\n",
        "print(\"A=\",a)\n",
        "print(\"B=\",b)\n",
        "D = np.dot(a,b)\n",
        "print(\"A.B=\",D)\n",
        "print(\"(A.B)T=\",D.transpose())\n",
        "\n"
      ],
      "execution_count": null,
      "outputs": []
    },
    {
      "cell_type": "markdown",
      "metadata": {
        "id": "9c9ZwiBxxf4t"
      },
      "source": [
        "2. Create a 3x3 matrix with elements [55,25,15], [30,44,2], [11,45,77] . Now find the determinant of the given matrix."
      ]
    },
    {
      "cell_type": "code",
      "metadata": {
        "id": "TWcepnxCXgV6"
      },
      "source": [
        "import numpy as np\n",
        "M = np.array([[55, 25, 15],\n",
        "           [30, 44, 2],\n",
        "           [11, 45, 77]])\n",
        "print(\"M=\",M)\n",
        "det = np.linalg.det(M)\n",
        "print(\"Det=\",det)"
      ],
      "execution_count": null,
      "outputs": []
    }
  ]
}