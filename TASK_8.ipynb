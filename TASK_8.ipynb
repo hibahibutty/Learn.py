{
  "nbformat": 4,
  "nbformat_minor": 0,
  "metadata": {
    "colab": {
      "name": "TASK 8.ipynb",
      "provenance": [],
      "authorship_tag": "ABX9TyNlmlrzKYdSD3TulzGGf6Xf",
      "include_colab_link": true
    },
    "kernelspec": {
      "name": "python3",
      "display_name": "Python 3"
    },
    "language_info": {
      "name": "python"
    }
  },
  "cells": [
    {
      "cell_type": "markdown",
      "metadata": {
        "id": "view-in-github",
        "colab_type": "text"
      },
      "source": [
        "<a href=\"https://colab.research.google.com/github/hibahibutty/Learn.py/blob/main/TASK_8.ipynb\" target=\"_parent\"><img src=\"https://colab.research.google.com/assets/colab-badge.svg\" alt=\"Open In Colab\"/></a>"
      ]
    },
    {
      "cell_type": "markdown",
      "metadata": {
        "id": "slsGswYbJSo7"
      },
      "source": [
        "1. Generate a 3 x 3 matrix using random module."
      ]
    },
    {
      "cell_type": "code",
      "metadata": {
        "id": "XURU60KLoDpj"
      },
      "source": [
        "import numpy as np\n",
        "matrix = np.random.rand(3,3)\n",
        "print(matrix)"
      ],
      "execution_count": null,
      "outputs": []
    },
    {
      "cell_type": "markdown",
      "metadata": {
        "id": "4OB9KFX6JfYA"
      },
      "source": [
        "2. Generate two 4 x 4 matrix using numpy and \n",
        "\n",
        " a) Reshape it to 2 x 8matrix and vertically stack it.\n",
        "\n",
        " b) Reshape it to 2 x 8 matrix and horizontally stack it."
      ]
    },
    {
      "cell_type": "code",
      "metadata": {
        "id": "SVYXK2qooEaM"
      },
      "source": [
        "import numpy as np\n",
        "M1 = np.random.randint(15,size = (4,4))\n",
        "M2 = np.random.randint(25,size = (4,4))\n",
        "print(\"M1=\",M1)\n",
        "print(\"M2=\",M2)\n",
        "a = np.reshape(M1,(2,8))\n",
        "a = np.vstack((M1,M2))\n",
        "print(\"a=\",a)\n",
        "b = np.reshape(M2,(2,8))\n",
        "b = np.hstack((M1,M2))\n",
        "print(\"b=\",b)"
      ],
      "execution_count": null,
      "outputs": []
    }
  ]
}