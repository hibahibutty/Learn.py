{
  "nbformat": 4,
  "nbformat_minor": 0,
  "metadata": {
    "colab": {
      "name": "TASK 3.ipynb",
      "provenance": [],
      "authorship_tag": "ABX9TyPHlryCwNidB1MCuhr/Rhvj",
      "include_colab_link": true
    },
    "kernelspec": {
      "name": "python3",
      "display_name": "Python 3"
    },
    "language_info": {
      "name": "python"
    }
  },
  "cells": [
    {
      "cell_type": "markdown",
      "metadata": {
        "id": "view-in-github",
        "colab_type": "text"
      },
      "source": [
        "<a href=\"https://colab.research.google.com/github/hibahibutty/Learn.py/blob/main/TASK_3.ipynb\" target=\"_parent\"><img src=\"https://colab.research.google.com/assets/colab-badge.svg\" alt=\"Open In Colab\"/></a>"
      ]
    },
    {
      "cell_type": "markdown",
      "metadata": {
        "id": "z20IIB0eUQMN"
      },
      "source": [
        "1 - Write a program which takes a number as input from the user and check whether the number is odd or even.If odd print the number is odd if not print it is even."
      ]
    },
    {
      "cell_type": "code",
      "metadata": {
        "id": "bDi-SdL6ZHf4"
      },
      "source": [
        "number = int(input(\"Enter an integer number: \"))\n",
        "x = number % 2\n",
        "if x == 1:\n",
        "  print(\"The number is odd\")\n",
        "else:\n",
        "  print(\"The number is even\")  "
      ],
      "execution_count": null,
      "outputs": []
    },
    {
      "cell_type": "markdown",
      "metadata": {
        "id": "7778XD8PVblj"
      },
      "source": [
        "2 -Write a program to find the largest among three numbers and print the largest number."
      ]
    },
    {
      "cell_type": "code",
      "metadata": {
        "id": "w395DqoDZJ3R"
      },
      "source": [
        "n1 = int(input(\"Enter the 1st number N1: \"))\n",
        "n2 = int(input(\"Enter the 2nd number N2: \"))\n",
        "n3 = int(input(\"Enter the 3rd number N3: \"))\n",
        "if (n1 > n2):\n",
        "    if (n1 > n3):\n",
        "      print(\"N1 is the largest number\")\n",
        "    else:\n",
        "      print(\"N3 is the largest number\")\n",
        "elif (n2 > n3):\n",
        "   print(\"N2 is the largest number\")\n",
        "else:\n",
        "   print(\"N3 is the largest number\")         "
      ],
      "execution_count": null,
      "outputs": []
    },
    {
      "cell_type": "markdown",
      "metadata": {
        "id": "Jg2Ns4OQWaJy"
      },
      "source": [
        "3 -Write a function to prompt for a score between 0.0 and 1.0.\n",
        "\n",
        "    If the score is out of range, print an error.\n",
        "    If the score is between 0.0 and 1.0, print a grade using the following table:\n",
        "    Score Grade\n",
        "             Score\tGrade\n",
        "            >= 0.9\tA\n",
        "            >= 0.8\tB\n",
        "            >= 0.7\tC\n",
        "            >= 0.6\tD\n",
        "             < 0.6\tF\n",
        "If the user enters a value out of range, print a suitable error message and exit. For the test, enter a score of 0.85."
      ]
    },
    {
      "cell_type": "code",
      "metadata": {
        "colab": {
          "base_uri": "https://localhost:8080/"
        },
        "id": "x60u5q3jZK7D",
        "outputId": "e21ce522-674d-431e-e9c8-21a47ba94442"
      },
      "source": [
        "score = float(input(\"Enter the score: \"))\n",
        "\n",
        "if (score >= 0.9):\n",
        "    if (score > 1):\n",
        "      print(\"There is an error\")\n",
        "    else:  \n",
        "      print(\"Grade A\")\n",
        "elif (score >= 0.8):\n",
        "  print(\"Grade B\") \n",
        "elif (score >= 0.7):\n",
        "  print(\"Grade C\") \n",
        "elif (score >= 0.6):\n",
        "  print(\"Grade D\") \n",
        "elif (score < 0.6):\n",
        "    if (score < 0):\n",
        "      print(\"There is an error\")\n",
        "    else:  \n",
        "      print(\"Grade F\") \n",
        "      \n",
        "\n"
      ],
      "execution_count": 39,
      "outputs": [
        {
          "output_type": "stream",
          "text": [
            "Enter the score: 0.85\n",
            "Grade B\n"
          ],
          "name": "stdout"
        }
      ]
    }
  ]
}