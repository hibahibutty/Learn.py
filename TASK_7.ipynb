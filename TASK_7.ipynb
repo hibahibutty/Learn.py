{
  "nbformat": 4,
  "nbformat_minor": 0,
  "metadata": {
    "colab": {
      "name": "TASK 7.ipynb",
      "provenance": [],
      "authorship_tag": "ABX9TyNaDl7bvyJTMlVkhQ8L1sa+",
      "include_colab_link": true
    },
    "kernelspec": {
      "name": "python3",
      "display_name": "Python 3"
    },
    "language_info": {
      "name": "python"
    }
  },
  "cells": [
    {
      "cell_type": "markdown",
      "metadata": {
        "id": "view-in-github",
        "colab_type": "text"
      },
      "source": [
        "<a href=\"https://colab.research.google.com/github/hibahibutty/Learn.py/blob/main/TASK_7.ipynb\" target=\"_parent\"><img src=\"https://colab.research.google.com/assets/colab-badge.svg\" alt=\"Open In Colab\"/></a>"
      ]
    },
    {
      "cell_type": "markdown",
      "metadata": {
        "id": "b0V3vwzcydKy"
      },
      "source": [
        "1. Write a program to check whether a  string is palindrome or not using functions. \n",
        "\n",
        "   ( A function is to be created to check whether the string is palindrome and it should give the output true or false to the main program)"
      ]
    },
    {
      "cell_type": "code",
      "metadata": {
        "id": "gjgyDei6fg6Y"
      },
      "source": [
        "def isPalindrome(s):\n",
        "    rev = s[::-1]\n",
        "\n",
        "    if s == rev:\n",
        "      return True\n",
        "    else:\n",
        "      return False  \n",
        "\n",
        "s = input(\"Enter a string: \")\n",
        "if isPalindrome(s):\n",
        "  print(\"It is a Palindrome\")\n",
        "else:\n",
        "  print(\"It is NOT a Palindrome\") "
      ],
      "execution_count": null,
      "outputs": []
    },
    {
      "cell_type": "markdown",
      "metadata": {
        "id": "vSiShTyOzEz-"
      },
      "source": [
        "2.  Write a menu driven program to find largest element in L, smallest element, avg of all values, sum of all values in L. All these operation should be performed in different functions and the result should be returned.\n",
        "\n",
        "\n",
        "      L=[23,24,11,90,1,41,9,99,28,56,72]"
      ]
    },
    {
      "cell_type": "code",
      "metadata": {
        "colab": {
          "base_uri": "https://localhost:8080/"
        },
        "id": "IVeiGMHhfhjY",
        "outputId": "005849e7-3fd6-4370-d30d-5927088ddc45"
      },
      "source": [
        "def myMax(L):\n",
        "    max = L[0]\n",
        "   \n",
        "    for x in L:\n",
        "        if x > max :\n",
        "             max = x\n",
        "    return max\n",
        "\n",
        "def myMin(L):\n",
        "    min = L[0]\n",
        "   \n",
        "    for x in L:\n",
        "        if x < min :\n",
        "             min = x\n",
        "    return min\n",
        "\n",
        "def avg(L):\n",
        "    result = 0\n",
        "    for i in L:\n",
        "      result += i\n",
        "      avg_num = result / len(L)\n",
        "    return avg_num\n",
        "\n",
        "def sum(L):\n",
        "    total = 0\n",
        "    for x in L:\n",
        "        total += x\n",
        "    return total\n",
        "\n",
        "L=[23,24,11,90,1,41,9,99,28,56,72]\n",
        "print(\"Largest element is:\", myMax(L))\n",
        "print(\"Smallest element is:\", myMin(L))\n",
        "print(\"Average of all values is:\", avg(L))\n",
        "print(\"Sum of all values is:\", sum(L))"
      ],
      "execution_count": 19,
      "outputs": [
        {
          "output_type": "stream",
          "text": [
            "Largest element is: 99\n",
            "Smallest element is: 1\n",
            "Average of all values is: 41.27272727272727\n",
            "Sum of all values is: 454\n"
          ],
          "name": "stdout"
        }
      ]
    }
  ]
}